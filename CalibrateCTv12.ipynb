{
 "cells": [
  {
   "cell_type": "markdown",
   "metadata": {},
   "source": [
    "<h3>Import needed libraries</h3>"
   ]
  },
  {
   "cell_type": "code",
   "execution_count": 2,
   "metadata": {},
   "outputs": [],
   "source": [
    "import pydicom as dicom\n",
    "import matplotlib.pyplot as plt\n",
    "import os\n",
    "from ipywidgets import interact, interactive, fixed, interact_manual\n",
    "import ipywidgets as widgets\n",
    "import numpy as np"
   ]
  },
  {
   "cell_type": "markdown",
   "metadata": {},
   "source": [
    "<h3>User input</h3>"
   ]
  },
  {
   "cell_type": "code",
   "execution_count": 3,
   "metadata": {},
   "outputs": [],
   "source": [
    "parentDirectory = \"C:/Users/jake/OneDrive/Documents/Jake/Academia/Graduate School/Research/Osseointegration/Methodv12/AMCOI25/DICOMImages/CT/\"\n",
    "saveDirectory = \"C:/Users/jake/OneDrive/Documents/Jake/Academia/Graduate School/Research/Osseointegration/Methodv12/AMCOI25/FEA/\"\n",
    "patient = \"AMCOI25\"\n",
    "identifier = \"IM_\""
   ]
  },
  {
   "attachments": {},
   "cell_type": "markdown",
   "metadata": {},
   "source": [
    "<h3>Scan import</h3>"
   ]
  },
  {
   "cell_type": "code",
   "execution_count": 4,
   "metadata": {},
   "outputs": [],
   "source": [
    "x = 512\n",
    "y = 512\n",
    "\n",
    "# path = \"C:/Users/jake/OneDrive/Documents/Jake/Academia/Graduate School/Research/T1D/ROI Data/2001_R/S88340/S70\"\n",
    "path = parentDirectory\n",
    "dir_list = os.listdir(path)\n",
    "dir_list = [i for i in dir_list if identifier in i]\n",
    "\n",
    "z = len(dir_list)\n",
    "data = np.zeros((z, x, y))\n",
    "\n",
    "for i in range(len(dir_list)):\n",
    "    image_path = path + \"/\" + dir_list[i]\n",
    "    ds = dicom.dcmread(image_path)\n",
    "    j = ds.InstanceNumber - 1\n",
    "    data[j,:,:] = ds.pixel_array\n",
    "\n",
    "data = np.flip(data, axis=0)\n",
    "# data = np.flip(data, axis=1)\n",
    "# data = np.flip(data, axis=2)"
   ]
  },
  {
   "cell_type": "markdown",
   "metadata": {},
   "source": [
    "<h3>Plot uncalibrated scan</h3>"
   ]
  },
  {
   "cell_type": "code",
   "execution_count": 5,
   "metadata": {},
   "outputs": [],
   "source": [
    "def plot_func(j, a, b, L):\n",
    "    l = int(L/2)\n",
    "    plt.figure(figsize = (10, 10))\n",
    "    plt.imshow(data[j,:,:], cmap = \"bone\")\n",
    "    plt.axhline(a+0.5)\n",
    "    plt.axvline(b+0.5)\n",
    "    rectangle = plt.Rectangle((b-l, a-l), L, L)\n",
    "    plt.gca().add_patch(rectangle)\n",
    "    print(np.median(data[j,a-l:a+l,b-l:b+l]))"
   ]
  },
  {
   "cell_type": "code",
   "execution_count": 6,
   "metadata": {},
   "outputs": [
    {
     "data": {
      "application/vnd.jupyter.widget-view+json": {
       "model_id": "2b5a6af83df44abfa937e101399a58fb",
       "version_major": 2,
       "version_minor": 0
      },
      "text/plain": [
       "interactive(children=(IntSlider(value=100, description='j', max=503), IntSlider(value=260, description='a', ma…"
      ]
     },
     "metadata": {},
     "output_type": "display_data"
    },
    {
     "data": {
      "text/plain": [
       "<function __main__.plot_func(j, a, b, L)>"
      ]
     },
     "execution_count": 6,
     "metadata": {},
     "output_type": "execute_result"
    }
   ],
   "source": [
    "interact(plot_func, \n",
    "         j = widgets.IntSlider(value = 100, min = 0, max = z-1, step = 1),\n",
    "         a = widgets.IntSlider(value = 260, min = 1, max = x, step = 1),\n",
    "         b = widgets.IntSlider(value = 139, min = 1, max = y, step = 1),\n",
    "         L = widgets.IntSlider(value = 30, min = 1, max = 100, step = 1))"
   ]
  },
  {
   "cell_type": "code",
   "execution_count": null,
   "metadata": {},
   "outputs": [],
   "source": [
    "air = -985\n",
    "fat = -138\n",
    "muscle = 49"
   ]
  },
  {
   "cell_type": "markdown",
   "metadata": {},
   "source": [
    "<h3>Calibrate scan and export</h3>"
   ]
  },
  {
   "cell_type": "code",
   "execution_count": null,
   "metadata": {},
   "outputs": [],
   "source": [
    "pname = parentDirectory + patient + \"_AFM_p.raw\"\n",
    "Ename = parentDirectory + patient + \"_AFM_E.raw\"\n",
    "\n",
    "# for linear fit w/o bone\n",
    "vals = [air, fat, muscle]\n",
    "ref_vals = [-807, -85, 31]\n",
    "fit = np.polyfit(vals, ref_vals, deg = 1)\n",
    "p = np.poly1d(fit)\n",
    "BMD = p(data)\n",
    "p = 0.0012*BMD + 0.17\n",
    "p[p <= 0.0] = 0\n",
    "\n",
    "E = (6850*(np.power(p, 1.49)))*1.28\n",
    "E[E <= 0.0] = 1\n",
    "E[E > 8768] = 17000"
   ]
  },
  {
   "cell_type": "code",
   "execution_count": null,
   "metadata": {},
   "outputs": [],
   "source": [
    "p = p*10000\n",
    "p.astype(np.ushort).tofile(pname)\n",
    "E.astype(np.ushort).tofile(Ename)"
   ]
  }
 ],
 "metadata": {
  "kernelspec": {
   "display_name": "base",
   "language": "python",
   "name": "python3"
  },
  "language_info": {
   "codemirror_mode": {
    "name": "ipython",
    "version": 3
   },
   "file_extension": ".py",
   "mimetype": "text/x-python",
   "name": "python",
   "nbconvert_exporter": "python",
   "pygments_lexer": "ipython3",
   "version": "3.10.4"
  },
  "orig_nbformat": 4,
  "vscode": {
   "interpreter": {
    "hash": "788d19775436d1b8173380b4b9395cb76962fd19c33c79fbe40d2e93874de989"
   }
  }
 },
 "nbformat": 4,
 "nbformat_minor": 2
}
