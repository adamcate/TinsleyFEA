{
 "cells": [
  {
   "cell_type": "code",
   "execution_count": 11,
   "metadata": {},
   "outputs": [],
   "source": [
    "import numpy as np\n",
    "import matplotlib.pyplot as plt\n",
    "import pandas as pd\n",
    "\n",
    "# import the yaml libraries for configuration files\n",
    "import yaml"
   ]
  },
  {
   "cell_type": "code",
   "execution_count": 12,
   "metadata": {},
   "outputs": [],
   "source": [
    "# read the data from config.yml (only get the first model for now, but support for many batched models shouldn't be difficult to implement)\n",
    "with open('config.yml', 'r') as f:\n",
    "    data = yaml.load(f, Loader=yaml.SafeLoader)\n",
    "\n",
    "rootDir = data.get('root_path') # get the root path to all model folders from config.yml\n",
    "\n",
    "models = data[\"models\"]\n",
    "\n",
    "modelName = models[0].get(\"data\").get(\"name\")\n",
    "residualLimbName = models[0].get(\"data\").get('residualLimbName')\n",
    "distalProstheticName = models[0].get(\"data\").get('distalProstheticName')\n",
    "\n",
    "# read the excel data from dirs specified by config.yml\n",
    "muscleMags = pd.read_excel(rootDir + modelName + \"/FEA/OpenSim data/muscleMags.xlsx\")\n",
    "muscleVecs = pd.read_excel(rootDir + modelName + \"/FEA/OpenSim data/muscleVecs.xlsx\")\n",
    "jointMags = pd.read_excel(rootDir + modelName + \"/FEA/OpenSim data/jointMags.xlsx\")"
   ]
  },
  {
   "cell_type": "code",
   "execution_count": 13,
   "metadata": {},
   "outputs": [],
   "source": [
    "residualLimbName2 = \"_on_\" + residualLimbName"
   ]
  },
  {
   "cell_type": "code",
   "execution_count": 14,
   "metadata": {},
   "outputs": [],
   "source": [
    "decimals = 3\n",
    "muscleMags['time'] = muscleMags['time'].apply(lambda x: round(x, decimals))\n",
    "muscleVecs['time'] = muscleVecs['time'].apply(lambda x: round(x, decimals))\n",
    "jointMags['time'] = jointMags['time'].apply(lambda x: round(x, decimals))"
   ]
  },
  {
   "cell_type": "code",
   "execution_count": 15,
   "metadata": {},
   "outputs": [],
   "source": [
    "muscleMags = muscleMags.drop_duplicates(subset = ['time'], keep = 'first')\n",
    "muscleVecs = muscleVecs.drop_duplicates(subset = ['time'], keep = 'first')\n",
    "jointMags = jointMags.drop_duplicates(subset = ['time'], keep = 'first')"
   ]
  },
  {
   "cell_type": "code",
   "execution_count": 16,
   "metadata": {},
   "outputs": [],
   "source": [
    "data = muscleMags.merge(muscleVecs, on = 'time')\n",
    "data = data.merge(jointMags, on = 'time')"
   ]
  },
  {
   "cell_type": "code",
   "execution_count": 17,
   "metadata": {},
   "outputs": [],
   "source": [
    "muscles = []\n",
    "for column in muscleVecs.columns:\n",
    "    if residualLimbName2 in column:\n",
    "        if column[:-14] not in muscles:\n",
    "            muscles.append(column[:-14])\n",
    "muscle_names = muscles"
   ]
  },
  {
   "cell_type": "code",
   "execution_count": 18,
   "metadata": {},
   "outputs": [],
   "source": [
    "# create muscle force magnitudes\n",
    "x = len(data[muscle_names[0]])\n",
    "y = len(muscle_names)\n",
    "muscle_forces = np.zeros((x, y))\n",
    "for i in range(len(muscle_names)):\n",
    "    name = muscle_names[i]\n",
    "    f = list(data[name])\n",
    "    muscle_forces[:,i] = f"
   ]
  },
  {
   "cell_type": "code",
   "execution_count": 19,
   "metadata": {},
   "outputs": [],
   "source": [
    "# create muscle force vectors\n",
    "coords = ['X2', 'Y2', 'Z2']\n",
    "name = muscle_names[0]\n",
    "namet = name + '_' + coords[0] + residualLimbName2\n",
    "x = len(list(data[name]))\n",
    "y = len(muscle_names)\n",
    "muscle_vectors = np.zeros((3, x, y))\n",
    "for i in range(len(muscle_names)):\n",
    "    name = muscle_names[i]\n",
    "    vec = [[], [], []]\n",
    "    for j in range(len(coords)):\n",
    "        namet = name + '_' + coords[j] + residualLimbName2\n",
    "        vec[j] = list(data[namet])\n",
    "    muscle_vectors[:,:,i] = vec"
   ]
  },
  {
   "cell_type": "code",
   "execution_count": 20,
   "metadata": {},
   "outputs": [
    {
     "data": {
      "text/plain": [
       "1856"
      ]
     },
     "execution_count": 20,
     "metadata": {},
     "output_type": "execute_result"
    }
   ],
   "source": [
    "outputFileName = models[0].get(\"data\").get(\"outputFileName\")\n",
    "\n",
    "# open and begin writing to the python file specified in config.yml\n",
    "fout = open(rootDir + outputFileName, 'w')\n",
    "\n",
    "i = 28\n",
    "forces = list(muscle_forces[:,i])\n",
    "forces = [i if i != 0 else 0.000001 for i in forces]\n",
    "\n",
    "fout.write(str(muscle_names[i]) + \"\\n\")\n",
    "fout.write(str(forces) + \"\\n\")\n",
    "fout.write(str(muscle_vectors[:,:,i].tolist()) + \"\\n\")"
   ]
  },
  {
   "cell_type": "code",
   "execution_count": 21,
   "metadata": {},
   "outputs": [
    {
     "ename": "KeyError",
     "evalue": "'walker_knee_r_on_femur_r_in_femur_r_fx'",
     "output_type": "error",
     "traceback": [
      "\u001b[1;31m---------------------------------------------------------------------------\u001b[0m",
      "\u001b[1;31mKeyError\u001b[0m                                  Traceback (most recent call last)",
      "File \u001b[1;32mc:\\Users\\adamt\\anaconda3\\Lib\\site-packages\\pandas\\core\\indexes\\base.py:3805\u001b[0m, in \u001b[0;36mIndex.get_loc\u001b[1;34m(self, key)\u001b[0m\n\u001b[0;32m   3804\u001b[0m \u001b[38;5;28;01mtry\u001b[39;00m:\n\u001b[1;32m-> 3805\u001b[0m     \u001b[38;5;28;01mreturn\u001b[39;00m \u001b[38;5;28mself\u001b[39m\u001b[38;5;241m.\u001b[39m_engine\u001b[38;5;241m.\u001b[39mget_loc(casted_key)\n\u001b[0;32m   3806\u001b[0m \u001b[38;5;28;01mexcept\u001b[39;00m \u001b[38;5;167;01mKeyError\u001b[39;00m \u001b[38;5;28;01mas\u001b[39;00m err:\n",
      "File \u001b[1;32mindex.pyx:167\u001b[0m, in \u001b[0;36mpandas._libs.index.IndexEngine.get_loc\u001b[1;34m()\u001b[0m\n",
      "File \u001b[1;32mindex.pyx:196\u001b[0m, in \u001b[0;36mpandas._libs.index.IndexEngine.get_loc\u001b[1;34m()\u001b[0m\n",
      "File \u001b[1;32mpandas\\\\_libs\\\\hashtable_class_helper.pxi:7081\u001b[0m, in \u001b[0;36mpandas._libs.hashtable.PyObjectHashTable.get_item\u001b[1;34m()\u001b[0m\n",
      "File \u001b[1;32mpandas\\\\_libs\\\\hashtable_class_helper.pxi:7089\u001b[0m, in \u001b[0;36mpandas._libs.hashtable.PyObjectHashTable.get_item\u001b[1;34m()\u001b[0m\n",
      "\u001b[1;31mKeyError\u001b[0m: 'walker_knee_r_on_femur_r_in_femur_r_fx'",
      "\nThe above exception was the direct cause of the following exception:\n",
      "\u001b[1;31mKeyError\u001b[0m                                  Traceback (most recent call last)",
      "Cell \u001b[1;32mIn[21], line 21\u001b[0m\n\u001b[0;32m     18\u001b[0m fy \u001b[38;5;241m=\u001b[39m \u001b[38;5;124mf\u001b[39m\u001b[38;5;124m\"\u001b[39m\u001b[38;5;132;01m{\u001b[39;00mdistalProstheticName\u001b[38;5;132;01m}\u001b[39;00m\u001b[38;5;124m_on_\u001b[39m\u001b[38;5;132;01m{\u001b[39;00mresidualLimbName\u001b[38;5;132;01m}\u001b[39;00m\u001b[38;5;124m_in_\u001b[39m\u001b[38;5;132;01m{\u001b[39;00mresidualLimbName\u001b[38;5;132;01m}\u001b[39;00m\u001b[38;5;124m_fy\u001b[39m\u001b[38;5;124m\"\u001b[39m\n\u001b[0;32m     19\u001b[0m fz \u001b[38;5;241m=\u001b[39m \u001b[38;5;124mf\u001b[39m\u001b[38;5;124m\"\u001b[39m\u001b[38;5;132;01m{\u001b[39;00mdistalProstheticName\u001b[38;5;132;01m}\u001b[39;00m\u001b[38;5;124m_on_\u001b[39m\u001b[38;5;132;01m{\u001b[39;00mresidualLimbName\u001b[38;5;132;01m}\u001b[39;00m\u001b[38;5;124m_in_\u001b[39m\u001b[38;5;132;01m{\u001b[39;00mresidualLimbName\u001b[38;5;132;01m}\u001b[39;00m\u001b[38;5;124m_fz\u001b[39m\u001b[38;5;124m\"\u001b[39m\n\u001b[1;32m---> 21\u001b[0m fout\u001b[38;5;241m.\u001b[39mwrite(\u001b[38;5;124mf\u001b[39m\u001b[38;5;124m\"\u001b[39m\u001b[38;5;124mkneeLoad_x = \u001b[39m\u001b[38;5;132;01m{\u001b[39;00m\u001b[38;5;28mlist\u001b[39m(data[fx])\u001b[38;5;132;01m}\u001b[39;00m\u001b[38;5;124m\"\u001b[39m \u001b[38;5;241m+\u001b[39m \u001b[38;5;124m\"\u001b[39m\u001b[38;5;130;01m\\n\u001b[39;00m\u001b[38;5;124m\"\u001b[39m)\n\u001b[0;32m     22\u001b[0m fout\u001b[38;5;241m.\u001b[39mwrite(\u001b[38;5;124mf\u001b[39m\u001b[38;5;124m\"\u001b[39m\u001b[38;5;124mkneeLoad_y = \u001b[39m\u001b[38;5;132;01m{\u001b[39;00m\u001b[38;5;28mlist\u001b[39m(data[fy])\u001b[38;5;132;01m}\u001b[39;00m\u001b[38;5;124m\"\u001b[39m \u001b[38;5;241m+\u001b[39m \u001b[38;5;124m\"\u001b[39m\u001b[38;5;130;01m\\n\u001b[39;00m\u001b[38;5;124m\"\u001b[39m)\n\u001b[0;32m     23\u001b[0m fout\u001b[38;5;241m.\u001b[39mwrite(\u001b[38;5;124mf\u001b[39m\u001b[38;5;124m\"\u001b[39m\u001b[38;5;124mkneeLoad_z = \u001b[39m\u001b[38;5;132;01m{\u001b[39;00m\u001b[38;5;28mlist\u001b[39m(data[fz])\u001b[38;5;132;01m}\u001b[39;00m\u001b[38;5;124m\"\u001b[39m \u001b[38;5;241m+\u001b[39m \u001b[38;5;124m\"\u001b[39m\u001b[38;5;130;01m\\n\u001b[39;00m\u001b[38;5;124m\"\u001b[39m)\n",
      "File \u001b[1;32mc:\\Users\\adamt\\anaconda3\\Lib\\site-packages\\pandas\\core\\frame.py:4102\u001b[0m, in \u001b[0;36mDataFrame.__getitem__\u001b[1;34m(self, key)\u001b[0m\n\u001b[0;32m   4100\u001b[0m \u001b[38;5;28;01mif\u001b[39;00m \u001b[38;5;28mself\u001b[39m\u001b[38;5;241m.\u001b[39mcolumns\u001b[38;5;241m.\u001b[39mnlevels \u001b[38;5;241m>\u001b[39m \u001b[38;5;241m1\u001b[39m:\n\u001b[0;32m   4101\u001b[0m     \u001b[38;5;28;01mreturn\u001b[39;00m \u001b[38;5;28mself\u001b[39m\u001b[38;5;241m.\u001b[39m_getitem_multilevel(key)\n\u001b[1;32m-> 4102\u001b[0m indexer \u001b[38;5;241m=\u001b[39m \u001b[38;5;28mself\u001b[39m\u001b[38;5;241m.\u001b[39mcolumns\u001b[38;5;241m.\u001b[39mget_loc(key)\n\u001b[0;32m   4103\u001b[0m \u001b[38;5;28;01mif\u001b[39;00m is_integer(indexer):\n\u001b[0;32m   4104\u001b[0m     indexer \u001b[38;5;241m=\u001b[39m [indexer]\n",
      "File \u001b[1;32mc:\\Users\\adamt\\anaconda3\\Lib\\site-packages\\pandas\\core\\indexes\\base.py:3812\u001b[0m, in \u001b[0;36mIndex.get_loc\u001b[1;34m(self, key)\u001b[0m\n\u001b[0;32m   3807\u001b[0m     \u001b[38;5;28;01mif\u001b[39;00m \u001b[38;5;28misinstance\u001b[39m(casted_key, \u001b[38;5;28mslice\u001b[39m) \u001b[38;5;129;01mor\u001b[39;00m (\n\u001b[0;32m   3808\u001b[0m         \u001b[38;5;28misinstance\u001b[39m(casted_key, abc\u001b[38;5;241m.\u001b[39mIterable)\n\u001b[0;32m   3809\u001b[0m         \u001b[38;5;129;01mand\u001b[39;00m \u001b[38;5;28many\u001b[39m(\u001b[38;5;28misinstance\u001b[39m(x, \u001b[38;5;28mslice\u001b[39m) \u001b[38;5;28;01mfor\u001b[39;00m x \u001b[38;5;129;01min\u001b[39;00m casted_key)\n\u001b[0;32m   3810\u001b[0m     ):\n\u001b[0;32m   3811\u001b[0m         \u001b[38;5;28;01mraise\u001b[39;00m InvalidIndexError(key)\n\u001b[1;32m-> 3812\u001b[0m     \u001b[38;5;28;01mraise\u001b[39;00m \u001b[38;5;167;01mKeyError\u001b[39;00m(key) \u001b[38;5;28;01mfrom\u001b[39;00m \u001b[38;5;21;01merr\u001b[39;00m\n\u001b[0;32m   3813\u001b[0m \u001b[38;5;28;01mexcept\u001b[39;00m \u001b[38;5;167;01mTypeError\u001b[39;00m:\n\u001b[0;32m   3814\u001b[0m     \u001b[38;5;66;03m# If we have a listlike key, _check_indexing_error will raise\u001b[39;00m\n\u001b[0;32m   3815\u001b[0m     \u001b[38;5;66;03m#  InvalidIndexError. Otherwise we fall through and re-raise\u001b[39;00m\n\u001b[0;32m   3816\u001b[0m     \u001b[38;5;66;03m#  the TypeError.\u001b[39;00m\n\u001b[0;32m   3817\u001b[0m     \u001b[38;5;28mself\u001b[39m\u001b[38;5;241m.\u001b[39m_check_indexing_error(key)\n",
      "\u001b[1;31mKeyError\u001b[0m: 'walker_knee_r_on_femur_r_in_femur_r_fx'"
     ]
    }
   ],
   "source": [
    "fout.write(\"# create muscle force magnitudes\\n\")\n",
    "\n",
    "for i in range(len(muscle_names)):\n",
    "    forces = list(muscle_forces[:,i])\n",
    "    forces = [j if j != 0 else 0.000001 for j in forces]\n",
    "    fout.write(f\"{muscle_names[i]} = {forces}\" + \"\\n\")\n",
    "\n",
    "muscleNamesString = f\"muscle_forces = np.array({muscle_names})\".replace(\"'\", \"\")\n",
    "fout.write(muscleNamesString + \"\\n\\n# Create muscle force vectors\\n\")\n",
    "\n",
    "for i in range(len(muscle_names)):\n",
    "    fout.write(f\"{muscle_names[i]} = {muscle_vectors[:,:,i].tolist()}\" + \"\\n\")\n",
    "\n",
    "muscleNamesString = f\"muscle_forces = np.array({muscle_names})\".replace(\"'\", \"\")\n",
    "fout.write(muscleNamesString + \"\\n\\n\" + f\"muscle_names = {muscle_names}\" + \"\\n\\n\" + \"# create joint force magnitudes\\n\")\n",
    "\n",
    "fx = f\"{distalProstheticName}_on_{residualLimbName}_in_{residualLimbName}_fx\"\n",
    "fy = f\"{distalProstheticName}_on_{residualLimbName}_in_{residualLimbName}_fy\"\n",
    "fz = f\"{distalProstheticName}_on_{residualLimbName}_in_{residualLimbName}_fz\"\n",
    "\n",
    "fout.write(f\"kneeLoad_x = {list(data[fx])}\" + \"\\n\")\n",
    "fout.write(f\"kneeLoad_y = {list(data[fy])}\" + \"\\n\")\n",
    "fout.write(f\"kneeLoad_z = {list(data[fz])}\" + \"\\n\")\n",
    "\n",
    "fout.close()"
   ]
  }
 ],
 "metadata": {
  "kernelspec": {
   "display_name": "base",
   "language": "python",
   "name": "python3"
  },
  "language_info": {
   "codemirror_mode": {
    "name": "ipython",
    "version": 3
   },
   "file_extension": ".py",
   "mimetype": "text/x-python",
   "name": "python",
   "nbconvert_exporter": "python",
   "pygments_lexer": "ipython3",
   "version": "3.12.4"
  },
  "orig_nbformat": 4,
  "vscode": {
   "interpreter": {
    "hash": "c6255b16646a54f6c98893b0cb5c0102cd9f0c27623b8c375730bec9f96c574c"
   }
  }
 },
 "nbformat": 4,
 "nbformat_minor": 2
}
