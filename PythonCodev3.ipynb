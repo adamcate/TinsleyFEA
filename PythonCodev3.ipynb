{
 "cells": [
  {
   "cell_type": "code",
   "execution_count": 1,
   "metadata": {},
   "outputs": [],
   "source": [
    "import numpy as np\n",
    "import matplotlib.pyplot as plt\n",
    "import pandas as pd\n",
    "\n",
    "# import the yaml libraries for configuration files\n",
    "import yaml"
   ]
  },
  {
   "cell_type": "code",
   "execution_count": 2,
   "metadata": {},
   "outputs": [],
   "source": [
    "# read the data from config.yml (only get the first model for now, but support for many batched models shouldn't be difficult to implement)\n",
    "with open('config.yml', 'r') as f:\n",
    "    data = yaml.load(f, Loader=yaml.SafeLoader)\n",
    "\n",
    "rootDir = data.get('root_path') # get the root path to all model folders from config.yml\n",
    "\n",
    "models = data[\"models\"]\n",
    "\n",
    "modelName = models[0].get(\"data\").get(\"name\")\n",
    "residualLimbName = models[0].get(\"data\").get('residualLimbName')\n",
    "distalProstheticName = models[0].get(\"data\").get('distalProstheticName')\n",
    "\n",
    "# read the excel data from dirs specified by config.yml\n",
    "muscleMags = pd.read_excel(rootDir + modelName + \"/FEA/OpenSim data/muscleMags.xlsx\")\n",
    "muscleVecs = pd.read_excel(rootDir + modelName + \"/FEA/OpenSim data/muscleVecs.xlsx\")\n",
    "jointMags = pd.read_excel(rootDir + modelName + \"/FEA/OpenSim data/jointMags.xlsx\")"
   ]
  },
  {
   "cell_type": "code",
   "execution_count": 3,
   "metadata": {},
   "outputs": [],
   "source": [
    "residualLimbName2 = \"_on_\" + residualLimbName"
   ]
  },
  {
   "cell_type": "code",
   "execution_count": 4,
   "metadata": {},
   "outputs": [],
   "source": [
    "decimals = 3\n",
    "muscleMags['time'] = muscleMags['time'].apply(lambda x: round(x, decimals))\n",
    "muscleVecs['time'] = muscleVecs['time'].apply(lambda x: round(x, decimals))\n",
    "jointMags['time'] = jointMags['time'].apply(lambda x: round(x, decimals))"
   ]
  },
  {
   "cell_type": "code",
   "execution_count": 5,
   "metadata": {},
   "outputs": [],
   "source": [
    "muscleMags = muscleMags.drop_duplicates(subset = ['time'], keep = 'first')\n",
    "muscleVecs = muscleVecs.drop_duplicates(subset = ['time'], keep = 'first')\n",
    "jointMags = jointMags.drop_duplicates(subset = ['time'], keep = 'first')"
   ]
  },
  {
   "cell_type": "code",
   "execution_count": 6,
   "metadata": {},
   "outputs": [],
   "source": [
    "data = muscleMags.merge(muscleVecs, on = 'time')\n",
    "data = data.merge(jointMags, on = 'time')"
   ]
  },
  {
   "cell_type": "code",
   "execution_count": 7,
   "metadata": {},
   "outputs": [],
   "source": [
    "muscles = []\n",
    "for column in muscleVecs.columns:\n",
    "    if residualLimbName2 in column:\n",
    "        if column[:-14] not in muscles:\n",
    "            muscles.append(column[:-14])\n",
    "muscle_names = muscles"
   ]
  },
  {
   "cell_type": "code",
   "execution_count": 8,
   "metadata": {},
   "outputs": [],
   "source": [
    "# create muscle force magnitudes\n",
    "x = len(data[muscle_names[0]])\n",
    "y = len(muscle_names)\n",
    "muscle_forces = np.zeros((x, y))\n",
    "for i in range(len(muscle_names)):\n",
    "    name = muscle_names[i]\n",
    "    f = list(data[name])\n",
    "    muscle_forces[:,i] = f"
   ]
  },
  {
   "cell_type": "code",
   "execution_count": 9,
   "metadata": {},
   "outputs": [],
   "source": [
    "# create muscle force vectors\n",
    "coords = ['X2', 'Y2', 'Z2']\n",
    "name = muscle_names[0]\n",
    "namet = name + '_' + coords[0] + residualLimbName2\n",
    "x = len(list(data[name]))\n",
    "y = len(muscle_names)\n",
    "muscle_vectors = np.zeros((3, x, y))\n",
    "for i in range(len(muscle_names)):\n",
    "    name = muscle_names[i]\n",
    "    vec = [[], [], []]\n",
    "    for j in range(len(coords)):\n",
    "        namet = name + '_' + coords[j] + residualLimbName2\n",
    "        vec[j] = list(data[namet])\n",
    "    muscle_vectors[:,:,i] = vec"
   ]
  },
  {
   "cell_type": "code",
   "execution_count": 10,
   "metadata": {},
   "outputs": [
    {
     "data": {
      "text/plain": [
       "1856"
      ]
     },
     "execution_count": 10,
     "metadata": {},
     "output_type": "execute_result"
    }
   ],
   "source": [
    "outputFileName = models[0].get(\"data\").get(\"outputFileName\")\n",
    "\n",
    "# open and begin writing to the python file specified in config.yml\n",
    "fout = open(rootDir + outputFileName, 'w')\n",
    "\n",
    "i = 28\n",
    "forces = list(muscle_forces[:,i])\n",
    "forces = [i if i != 0 else 0.000001 for i in forces]\n",
    "\n",
    "fout.write(str(muscle_names[i]) + \"\\n\")\n",
    "fout.write(str(forces) + \"\\n\")\n",
    "fout.write(str(muscle_vectors[:,:,i].tolist()) + \"\\n\")"
   ]
  },
  {
   "cell_type": "code",
   "execution_count": 11,
   "metadata": {},
   "outputs": [],
   "source": [
    "fout.write(\"# create muscle force magnitudes\\n\")\n",
    "\n",
    "for i in range(len(muscle_names)):\n",
    "    forces = list(muscle_forces[:,i])\n",
    "    forces = [j if j != 0 else 0.000001 for j in forces]\n",
    "    fout.write(f\"{muscle_names[i]} = {forces}\" + \"\\n\")\n",
    "\n",
    "muscleNamesString = f\"muscle_forces = np.array({muscle_names})\".replace(\"'\", \"\")\n",
    "fout.write(muscleNamesString + \"\\n\\n# Create muscle force vectors\\n\")\n",
    "\n",
    "for i in range(len(muscle_names)):\n",
    "    fout.write(f\"{muscle_names[i]} = {muscle_vectors[:,:,i].tolist()}\" + \"\\n\")\n",
    "\n",
    "muscleNamesString = f\"muscle_forces = np.array({muscle_names})\".replace(\"'\", \"\")\n",
    "fout.write(muscleNamesString + \"\\n\\n\" + f\"muscle_names = {muscle_names}\" + \"\\n\\n\" + \"# create joint force magnitudes\\n\")\n",
    "\n",
    "fx = f\"{distalProstheticName}_on_{residualLimbName}_in_{residualLimbName}_fx\"\n",
    "fy = f\"{distalProstheticName}_on_{residualLimbName}_in_{residualLimbName}_fy\"\n",
    "fz = f\"{distalProstheticName}_on_{residualLimbName}_in_{residualLimbName}_fz\"\n",
    "\n",
    "fout.write(f\"kneeLoad_x = {list(data[fx])}\" + \"\\n\")\n",
    "fout.write(f\"kneeLoad_y = {list(data[fy])}\" + \"\\n\")\n",
    "fout.write(f\"kneeLoad_z = {list(data[fz])}\" + \"\\n\")\n",
    "\n",
    "fout.close()"
   ]
  }
 ],
 "metadata": {
  "kernelspec": {
   "display_name": "base",
   "language": "python",
   "name": "python3"
  },
  "language_info": {
   "codemirror_mode": {
    "name": "ipython",
    "version": 3
   },
   "file_extension": ".py",
   "mimetype": "text/x-python",
   "name": "python",
   "nbconvert_exporter": "python",
   "pygments_lexer": "ipython3",
   "version": "3.12.3"
  },
  "orig_nbformat": 4,
  "vscode": {
   "interpreter": {
    "hash": "c6255b16646a54f6c98893b0cb5c0102cd9f0c27623b8c375730bec9f96c574c"
   }
  }
 },
 "nbformat": 4,
 "nbformat_minor": 2
}
